{
    "cells": [
        {
            "cell_type": "code",
            "execution_count": 11,
            "source": [
                "import requests, sys\n",
                " \n",
                "server = \"http://rest.ensembl.org\"\n",
                "ext = \"/info/species?\"\n",
                " \n",
                "r = requests.get(server+ext, headers={ \"Content-Type\" : \"application/json\"})\n",
                " \n",
                "if not r.ok:\n",
                "  r.raise_for_status()\n",
                "  sys.exit()\n",
                " \n",
                "decoded = r.json()\n",
                "\n",
                "species = decoded[\"species\"]\n",
                "\n",
                "organisms = {}\n",
                "\n",
                "for sp in species:\n",
                "  release = sp[\"release\"]\n",
                "  name = sp[\"name\"]\n",
                "  disp = sp[\"display_name\"]\n",
                "  taxid = sp[\"taxon_id\"]\n",
                "  assembly = sp[\"assembly\"]\n",
                "  \n",
                "  cdna_url = \"http://ftp.ensembl.org/pub/release-\"+str(release)+\"/fasta/\"+name+\"/cdna/\"+name.capitalize()+\".\"+assembly+\".\"+str(release)+\".cdna.all.fa.gz\"\n",
                "  gtf_url = \"http://ftp.ensembl.org/pub/release-\"+str(release)+\"/gtf/\"+name+\"/\"+name.capitalize()+\".\"+assembly+\".\"+str(release)+\".gtf.gz\"\n",
                "\n",
                "  organisms[name] = [name, disp, cdna_url, gtf_url]\n",
                "\n"
            ],
            "outputs": [],
            "metadata": {}
        },
        {
            "cell_type": "code",
            "execution_count": 17,
            "source": [
                "sp = \"tupaia_belangeri\"\n",
                "fastq = organisms[sp][2]\n",
                "gtf = organisms[sp][3]\n",
                "\n",
                "print(gtf)\n",
                "\n",
                "import urllib.request\n",
                "urllib.request.urlretrieve(gtf, \"../data/temp.gtf\")"
            ],
            "outputs": [
                {
                    "output_type": "stream",
                    "name": "stdout",
                    "text": [
                        "http://ftp.ensembl.org/pub/release-104/gtf/tupaia_belangeri/Tupaia_belangeri.TREESHREW.104.gtf.gz\n"
                    ]
                },
                {
                    "output_type": "execute_result",
                    "data": {
                        "text/plain": [
                            "('../temp.gtf', <http.client.HTTPMessage at 0x112fff550>)"
                        ]
                    },
                    "metadata": {},
                    "execution_count": 17
                }
            ],
            "metadata": {}
        }
    ],
    "metadata": {
        "orig_nbformat": 4,
        "language_info": {
            "name": "python",
            "version": "3.8.5",
            "mimetype": "text/x-python",
            "codemirror_mode": {
                "name": "ipython",
                "version": 3
            },
            "pygments_lexer": "ipython3",
            "nbconvert_exporter": "python",
            "file_extension": ".py"
        },
        "kernelspec": {
            "name": "python3",
            "display_name": "Python 3.8.5 64-bit"
        },
        "interpreter": {
            "hash": "aee8b7b246df8f9039afb4144a1f6fd8d2ca17a180786b69acc140d282b71a49"
        }
    },
    "nbformat": 4,
    "nbformat_minor": 2
}