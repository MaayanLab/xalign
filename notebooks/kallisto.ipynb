{
    "cells": [
        {
            "cell_type": "code",
            "execution_count": 2,
            "source": [
                "%%capture\r\n",
                "!pip3 install git+https://github.com/MaayanLab/xalign.git"
            ],
            "outputs": [],
            "metadata": {}
        },
        {
            "cell_type": "code",
            "execution_count": 3,
            "source": [
                "import requests, sys\r\n",
                "import urllib.request\r\n",
                "import xalign\r\n"
            ],
            "outputs": [
                {
                    "output_type": "error",
                    "ename": "ModuleNotFoundError",
                    "evalue": "No module named 'xalign'",
                    "traceback": [
                        "\u001b[1;31m---------------------------------------------------------------------------\u001b[0m",
                        "\u001b[1;31mModuleNotFoundError\u001b[0m                       Traceback (most recent call last)",
                        "\u001b[1;32m<ipython-input-3-355a827fb7e6>\u001b[0m in \u001b[0;36m<module>\u001b[1;34m\u001b[0m\n\u001b[0;32m      1\u001b[0m \u001b[1;32mimport\u001b[0m \u001b[0mrequests\u001b[0m\u001b[1;33m,\u001b[0m \u001b[0msys\u001b[0m\u001b[1;33m\u001b[0m\u001b[1;33m\u001b[0m\u001b[0m\n\u001b[0;32m      2\u001b[0m \u001b[1;32mimport\u001b[0m \u001b[0murllib\u001b[0m\u001b[1;33m.\u001b[0m\u001b[0mrequest\u001b[0m\u001b[1;33m\u001b[0m\u001b[1;33m\u001b[0m\u001b[0m\n\u001b[1;32m----> 3\u001b[1;33m \u001b[1;32mimport\u001b[0m \u001b[0mxalign\u001b[0m\u001b[1;33m\u001b[0m\u001b[1;33m\u001b[0m\u001b[0m\n\u001b[0m",
                        "\u001b[1;31mModuleNotFoundError\u001b[0m: No module named 'xalign'"
                    ]
                }
            ],
            "metadata": {}
        },
        {
            "cell_type": "code",
            "execution_count": 8,
            "source": [
                "\r\n",
                "server = \"http://rest.ensembl.org\"\r\n",
                "ext = \"/info/species?\"\r\n",
                " \r\n",
                "r = requests.get(server+ext, headers={ \"Content-Type\" : \"application/json\"})\r\n",
                " \r\n",
                "if not r.ok:\r\n",
                "  r.raise_for_status()\r\n",
                "  sys.exit()\r\n",
                " \r\n",
                "decoded = r.json()\r\n",
                "\r\n",
                "species = decoded[\"species\"]\r\n",
                "\r\n",
                "organisms = {}\r\n",
                "\r\n",
                "for sp in species:\r\n",
                "  release = sp[\"release\"]\r\n",
                "  name = sp[\"name\"]\r\n",
                "  disp = sp[\"display_name\"]\r\n",
                "  taxid = sp[\"taxon_id\"]\r\n",
                "  assembly = sp[\"assembly\"]\r\n",
                "  \r\n",
                "  cdna_url = \"http://ftp.ensembl.org/pub/release-\"+str(release)+\"/fasta/\"+name+\"/cdna/\"+name.capitalize()+\".\"+assembly+\".cdna.all.fa.gz\"\r\n",
                "  gtf_url = \"http://ftp.ensembl.org/pub/release-\"+str(release)+\"/gtf/\"+name+\"/\"+name.capitalize()+\".\"+assembly+\".\"+str(release)+\".gtf.gz\"\r\n",
                "\r\n",
                "  organisms[name] = [name, disp, cdna_url, gtf_url]\r\n",
                "\r\n"
            ],
            "outputs": [],
            "metadata": {}
        },
        {
            "cell_type": "code",
            "execution_count": 7,
            "source": [
                " organisms[sp]\r\n",
                " http://ftp.ensembl.org/pub/release-104/fasta/tupaia_belangeri/cdna/Tupaia_belangeri.TREESHREW.cdna.all.fa.gz"
            ],
            "outputs": [
                {
                    "output_type": "execute_result",
                    "data": {
                        "text/plain": [
                            "['tupaia_belangeri',\n",
                            " 'Tree Shrew',\n",
                            " 'http://ftp.ensembl.org/pub/release-104/fasta/tupaia_belangeri/cdna/Tupaia_belangeri.TREESHREW.104.cdna.all.fa.gz',\n",
                            " 'http://ftp.ensembl.org/pub/release-104/gtf/tupaia_belangeri/Tupaia_belangeri.TREESHREW.104.gtf.gz']"
                        ]
                    },
                    "metadata": {},
                    "execution_count": 7
                }
            ],
            "metadata": {}
        },
        {
            "cell_type": "code",
            "execution_count": 10,
            "source": [
                "sp = \"homo_sapiens\"\r\n",
                "fastq = organisms[sp][2]\r\n",
                "gtf = organisms[sp][3]\r\n",
                "\r\n",
                "print(gtf)\r\n",
                "\r\n",
                "urllib.request.urlretrieve(gtf, \"../data/temp.gtf\")\r\n",
                "urllib.request.urlretrieve(fastq, \"../data/temp.fastq.gz\")"
            ],
            "outputs": [
                {
                    "output_type": "stream",
                    "name": "stdout",
                    "text": [
                        "http://ftp.ensembl.org/pub/release-104/gtf/homo_sapiens/Homo_sapiens.GRCh38.104.gtf.gz\n"
                    ]
                },
                {
                    "output_type": "execute_result",
                    "data": {
                        "text/plain": [
                            "('../data/temp.fastq.gz', <http.client.HTTPMessage at 0x2795b744e80>)"
                        ]
                    },
                    "metadata": {},
                    "execution_count": 10
                }
            ],
            "metadata": {}
        },
        {
            "cell_type": "code",
            "execution_count": 11,
            "source": [
                "def test():\r\n",
                "    sys.exit()"
            ],
            "outputs": [],
            "metadata": {}
        },
        {
            "cell_type": "code",
            "execution_count": 12,
            "source": [
                "test()"
            ],
            "outputs": [
                {
                    "output_type": "error",
                    "ename": "SystemExit",
                    "evalue": "",
                    "traceback": [
                        "An exception has occurred, use %tb to see the full traceback.\n",
                        "\u001b[1;31mSystemExit\u001b[0m\n"
                    ]
                },
                {
                    "output_type": "stream",
                    "name": "stderr",
                    "text": [
                        "C:\\Users\\Rubberchicken\\AppData\\Roaming\\Python\\Python38\\site-packages\\IPython\\core\\interactiveshell.py:3445: UserWarning: To exit: use 'exit', 'quit', or Ctrl-D.\n",
                        "  warn(\"To exit: use 'exit', 'quit', or Ctrl-D.\", stacklevel=1)\n"
                    ]
                }
            ],
            "metadata": {}
        },
        {
            "cell_type": "code",
            "execution_count": null,
            "source": [],
            "outputs": [],
            "metadata": {}
        }
    ],
    "metadata": {
        "orig_nbformat": 4,
        "language_info": {
            "name": "python",
            "version": "3.8.5",
            "mimetype": "text/x-python",
            "codemirror_mode": {
                "name": "ipython",
                "version": 3
            },
            "pygments_lexer": "ipython3",
            "nbconvert_exporter": "python",
            "file_extension": ".py"
        },
        "kernelspec": {
            "name": "python3",
            "display_name": "Python 3.8.5 64-bit"
        },
        "interpreter": {
            "hash": "60f3b3101667592c150dcbaf93ef24f0a05e4dd4dc38244d9b99f2435a60626a"
        }
    },
    "nbformat": 4,
    "nbformat_minor": 2
}